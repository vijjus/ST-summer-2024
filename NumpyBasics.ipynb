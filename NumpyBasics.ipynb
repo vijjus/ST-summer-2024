{
  "nbformat": 4,
  "nbformat_minor": 0,
  "metadata": {
    "colab": {
      "provenance": [],
      "authorship_tag": "ABX9TyNh9lKQ7b8Knr5NXlVU65iK",
      "include_colab_link": true
    },
    "kernelspec": {
      "name": "python3",
      "display_name": "Python 3"
    },
    "language_info": {
      "name": "python"
    }
  },
  "cells": [
    {
      "cell_type": "markdown",
      "metadata": {
        "id": "view-in-github",
        "colab_type": "text"
      },
      "source": [
        "<a href=\"https://colab.research.google.com/github/vijjus/ST-summer-2024/blob/main/NumpyBasics.ipynb\" target=\"_parent\"><img src=\"https://colab.research.google.com/assets/colab-badge.svg\" alt=\"Open In Colab\"/></a>"
      ]
    },
    {
      "cell_type": "code",
      "execution_count": null,
      "metadata": {
        "id": "5btJ2t6_rdAU"
      },
      "outputs": [],
      "source": [
        "import numpy as np"
      ]
    },
    {
      "cell_type": "markdown",
      "source": [
        "Numpy stands for Numerical Python.\n",
        "\n",
        "NumPy is the fundamental package for scientific computing in Python. It is a Python library that provides a multidimensional array object, various derived objects (such as masked arrays and matrices), and an assortment of routines for fast operations on arrays, including mathematical, logical, shape manipulation, sorting, selecting, I/O, discrete Fourier transforms, basic linear algebra, basic statistical operations, random simulation and much more."
      ],
      "metadata": {
        "id": "GvSNmJKxwJNa"
      }
    },
    {
      "cell_type": "code",
      "source": [
        "a = np.array([1, 2, 3])   # Create a rank 1 array"
      ],
      "metadata": {
        "id": "R752qaiGuFfG"
      },
      "execution_count": null,
      "outputs": []
    },
    {
      "cell_type": "code",
      "source": [
        "type(a)"
      ],
      "metadata": {
        "id": "SS4Tj_5XuKCU"
      },
      "execution_count": null,
      "outputs": []
    },
    {
      "cell_type": "markdown",
      "source": [
        "ND array means N-dimensional array. Also when we have 2 or more dimensions, we prefer to use the term Matrix."
      ],
      "metadata": {
        "id": "enTHDdoVuigk"
      }
    },
    {
      "cell_type": "code",
      "source": [
        "a.shape"
      ],
      "metadata": {
        "id": "FHoA5v0tuLmc"
      },
      "execution_count": null,
      "outputs": []
    },
    {
      "cell_type": "code",
      "source": [
        "# zero based indexing\n",
        "print(a[0], a[1], a[2])   # Prints \"1 2 3\""
      ],
      "metadata": {
        "id": "pFStcobfuNZl"
      },
      "execution_count": null,
      "outputs": []
    },
    {
      "cell_type": "code",
      "source": [
        "# the array is mutable, i.e. it can be modified\n",
        "a[0] = 5                  # Change an element of the array"
      ],
      "metadata": {
        "id": "qVOxYFmFuRI1"
      },
      "execution_count": null,
      "outputs": []
    },
    {
      "cell_type": "code",
      "source": [
        "print(a)"
      ],
      "metadata": {
        "id": "nwhN0cdvucoj"
      },
      "execution_count": null,
      "outputs": []
    },
    {
      "cell_type": "code",
      "source": [
        "b = np.array([[1,2,3],[4,5,6]])    # Create a rank 2 array"
      ],
      "metadata": {
        "id": "rD99fRZYudwC"
      },
      "execution_count": null,
      "outputs": []
    },
    {
      "cell_type": "code",
      "source": [
        "print(b.shape)"
      ],
      "metadata": {
        "id": "ycZkx2sMuy6J"
      },
      "execution_count": null,
      "outputs": []
    },
    {
      "cell_type": "markdown",
      "source": [
        "The convension is Row, Column for two dimensional arrays. Here we have two rows, each with 3 columns."
      ],
      "metadata": {
        "id": "e9uFJcyOu4rZ"
      }
    },
    {
      "cell_type": "code",
      "source": [
        "print(b[0, 0], b[0, 1], b[1, 0])   # Prints \"1 2 4\""
      ],
      "metadata": {
        "id": "BVxNLAK0u1o9"
      },
      "execution_count": null,
      "outputs": []
    },
    {
      "cell_type": "markdown",
      "source": [
        "Indexing now requires to specify the row and the column of the element."
      ],
      "metadata": {
        "id": "s5APOI2zvGyX"
      }
    },
    {
      "cell_type": "code",
      "source": [
        "a = np.zeros((2,2))   # Create an array of all zeros\n",
        "print(a)              # Prints \"[[ 0.  0.]\n",
        "                      #          [ 0.  0.]]\""
      ],
      "metadata": {
        "id": "c2B9_zt5vGEO"
      },
      "execution_count": null,
      "outputs": []
    },
    {
      "cell_type": "code",
      "source": [
        "b = np.ones((1,2))    # Create an array of all ones\n",
        "print(b)              # Prints \"[[ 1.  1.]]\""
      ],
      "metadata": {
        "id": "ipCsgfYPvPxz"
      },
      "execution_count": null,
      "outputs": []
    },
    {
      "cell_type": "code",
      "source": [
        "c = np.full((2,2), 7)  # Create a constant array\n",
        "print(c)               # Prints \"[[ 7.  7.]\n",
        "                       #          [ 7.  7.]]\""
      ],
      "metadata": {
        "id": "SVIYVNfEvSB4"
      },
      "execution_count": null,
      "outputs": []
    },
    {
      "cell_type": "code",
      "source": [
        "d = np.eye(2)         # Create a 2x2 identity matrix\n",
        "print(d)              # Prints \"[[ 1.  0.]\n",
        "                      #          [ 0.  1.]]\""
      ],
      "metadata": {
        "id": "JGAOS3vExUDG"
      },
      "execution_count": null,
      "outputs": []
    },
    {
      "cell_type": "code",
      "source": [
        "e = np.random.random((2,2))  # Create an array filled with random values\n",
        "print(e)                     # Might print \"[[ 0.91940167  0.08143941]\n",
        "                             #               [ 0.68744134  0.87236687]]\""
      ],
      "metadata": {
        "id": "1M1YiCo8xXJg"
      },
      "execution_count": null,
      "outputs": []
    },
    {
      "cell_type": "markdown",
      "source": [
        "#What’s the difference between a Python list and a NumPy array?\n",
        "\n",
        "NumPy gives you an enormous range of fast and efficient ways of creating arrays and manipulating numerical data inside them. While a Python list can contain different data types within a single list, all of the elements in a NumPy array **should be homogeneous**. The mathematical operations that are meant to be performed on arrays would be extremely inefficient if the arrays weren’t homogeneous."
      ],
      "metadata": {
        "id": "pb9AdKbkw1A9"
      }
    },
    {
      "cell_type": "markdown",
      "source": [
        "There are many ways to create a numpy array: np.array(), np.zeros(), np.ones(), np.empty(), np.arange(), np.linspace()\n"
      ],
      "metadata": {
        "id": "_8ZnrxKQ0LLj"
      }
    },
    {
      "cell_type": "markdown",
      "source": [
        "Create a NumPy array of size 3 using the following data types:\n",
        "\n",
        "* np.short\n",
        "* np.byte\n",
        "* np.int32\n",
        "* np.float32\n"
      ],
      "metadata": {
        "id": "XKcfyzSt0gFf"
      }
    },
    {
      "cell_type": "code",
      "source": [
        "a = np.empty(3, dtype=np.int32)"
      ],
      "metadata": {
        "id": "1Jg5u1A5vUM1"
      },
      "execution_count": null,
      "outputs": []
    },
    {
      "cell_type": "code",
      "source": [
        "np.size(a)"
      ],
      "metadata": {
        "id": "HNeTWC_h1yyj"
      },
      "execution_count": null,
      "outputs": []
    },
    {
      "cell_type": "code",
      "source": [
        "print(a.size * a.itemsize)"
      ],
      "metadata": {
        "id": "Oo9RojUQ2RGX"
      },
      "execution_count": null,
      "outputs": []
    },
    {
      "cell_type": "code",
      "source": [
        "print(a.nbytes)"
      ],
      "metadata": {
        "id": "4J5UOKa52c8n"
      },
      "execution_count": null,
      "outputs": []
    },
    {
      "cell_type": "markdown",
      "source": [
        "# Adding, removing, and sorting elements"
      ],
      "metadata": {
        "id": "Ktf6dVu33erP"
      }
    },
    {
      "cell_type": "code",
      "source": [
        "arr = np.array([2, 1, 5, 3, 7, 4, 6, 8])"
      ],
      "metadata": {
        "id": "_XFtj_Ts2nCL"
      },
      "execution_count": null,
      "outputs": []
    },
    {
      "cell_type": "code",
      "source": [
        "np.sort(arr)"
      ],
      "metadata": {
        "id": "u2rL0tIF3h5A"
      },
      "execution_count": null,
      "outputs": []
    },
    {
      "cell_type": "code",
      "source": [
        "a = np.array([1, 2, 3, 4])\n",
        "b = np.array([5, 6, 7, 8])"
      ],
      "metadata": {
        "id": "1yLshCUl3jv3"
      },
      "execution_count": null,
      "outputs": []
    },
    {
      "cell_type": "code",
      "source": [
        "np.concatenate((a, b))"
      ],
      "metadata": {
        "id": "1GSZBCy93scx"
      },
      "execution_count": null,
      "outputs": []
    },
    {
      "cell_type": "code",
      "source": [
        "x = np.array([[1, 2], [3, 4]])\n",
        "y = np.array([[5, 6]])"
      ],
      "metadata": {
        "id": "v89iWiJw3wbn"
      },
      "execution_count": null,
      "outputs": []
    },
    {
      "cell_type": "code",
      "source": [
        "np.concatenate((x, y), axis=0)"
      ],
      "metadata": {
        "id": "YOewFEL230n6"
      },
      "execution_count": null,
      "outputs": []
    },
    {
      "cell_type": "markdown",
      "source": [
        "**ndarray.ndim** will tell you the number of axes, or dimensions, of the array.\n",
        "\n",
        "**ndarray.size** will tell you the total number of elements of the array. This is the product of the elements of the array’s shape.\n",
        "\n",
        "**ndarray.shape** will display a tuple of integers that indicate the number of elements stored along each dimension of the array. If, for example, you have a 2-D array with 2 rows and 3 columns, the shape of your array is (2, 3)."
      ],
      "metadata": {
        "id": "xtRZVWYI4JUb"
      }
    },
    {
      "cell_type": "code",
      "source": [],
      "metadata": {
        "id": "Z-mkR7tg3-6w"
      },
      "execution_count": null,
      "outputs": []
    }
  ]
}