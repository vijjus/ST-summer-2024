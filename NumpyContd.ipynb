{
  "nbformat": 4,
  "nbformat_minor": 0,
  "metadata": {
    "colab": {
      "provenance": [],
      "authorship_tag": "ABX9TyNy8oyRPE8BFcEhEA1qpMvL",
      "include_colab_link": true
    },
    "kernelspec": {
      "name": "python3",
      "display_name": "Python 3"
    },
    "language_info": {
      "name": "python"
    }
  },
  "cells": [
    {
      "cell_type": "markdown",
      "metadata": {
        "id": "view-in-github",
        "colab_type": "text"
      },
      "source": [
        "<a href=\"https://colab.research.google.com/github/vijjus/ST-summer-2024/blob/main/NumpyContd.ipynb\" target=\"_parent\"><img src=\"https://colab.research.google.com/assets/colab-badge.svg\" alt=\"Open In Colab\"/></a>"
      ]
    },
    {
      "cell_type": "code",
      "execution_count": 1,
      "metadata": {
        "id": "cGOqDWsT-19p"
      },
      "outputs": [],
      "source": [
        "import os\n",
        "import numpy as np\n",
        "import matplotlib.pyplot as plt\n",
        "import numpy.random as rand"
      ]
    },
    {
      "cell_type": "markdown",
      "source": [
        "# Boolean Statements"
      ],
      "metadata": {
        "id": "SDhIjXT0_rdq"
      }
    },
    {
      "cell_type": "code",
      "source": [
        "# Creating an image\n",
        "img1 = np.zeros((20, 20)) + 3\n",
        "img1[4:-4, 4:-4] = 6\n",
        "img1[7:-7, 7:-7] = 9\n",
        "plt.imshow(img1)"
      ],
      "metadata": {
        "colab": {
          "base_uri": "https://localhost:8080/",
          "height": 448
        },
        "id": "4n1YECE7_nxm",
        "outputId": "30334cf0-a9b7-4169-d57f-fc279897cca0"
      },
      "execution_count": 2,
      "outputs": [
        {
          "output_type": "execute_result",
          "data": {
            "text/plain": [
              "<matplotlib.image.AxesImage at 0x7e8c0a1922c0>"
            ]
          },
          "metadata": {},
          "execution_count": 2
        },
        {
          "output_type": "display_data",
          "data": {
            "text/plain": [
              "<Figure size 640x480 with 1 Axes>"
            ],
            "image/png": "[encoded data removed]"
          },
          "metadata": {}
        }
      ]
    },
    {
      "cell_type": "code",
      "source": [
        "# Let's filter out all values larger than 2 and less than 6.\n",
        "index1 = img1 > 2\n",
        "index2 = img1 < 6\n",
        "compound_index = index1 & index2"
      ],
      "metadata": {
        "id": "mV6c8_uc_vXI"
      },
      "execution_count": 3,
      "outputs": []
    },
    {
      "cell_type": "code",
      "source": [
        "compound_index"
      ],
      "metadata": {
        "colab": {
          "base_uri": "https://localhost:8080/"
        },
        "id": "rRIIut13AET4",
        "outputId": "5c85e873-f306-44ad-ce21-f9dae9c29630"
      },
      "execution_count": 5,
      "outputs": [
        {
          "output_type": "execute_result",
          "data": {
            "text/plain": [
              "array([[False, False, False, False, False, False, False, False, False,\n",
              "        False, False, False, False, False, False, False, False, False,\n",
              "        False, False],\n",
              "       [False, False, False, False, False, False, False, False, False,\n",
              "        False, False, False, False, False, False, False, False, False,\n",
              "        False, False],\n",
              "       [False, False, False, False, False, False, False, False, False,\n",
              "        False, False, False, False, False, False, False, False, False,\n",
              "        False, False],\n",
              "       [False, False, False, False, False, False, False, False, False,\n",
              "        False, False, False, False, False, False, False, False, False,\n",
              "        False, False],\n",
              "       [False, False, False, False,  True,  True,  True,  True,  True,\n",
              "         True,  True,  True,  True,  True,  True,  True, False, False,\n",
              "        False, False],\n",
              "       [False, False, False, False,  True,  True,  True,  True,  True,\n",
              "         True,  True,  True,  True,  True,  True,  True, False, False,\n",
              "        False, False],\n",
              "       [False, False, False, False,  True,  True,  True,  True,  True,\n",
              "         True,  True,  True,  True,  True,  True,  True, False, False,\n",
              "        False, False],\n",
              "       [False, False, False, False,  True,  True,  True, False, False,\n",
              "        False, False, False, False,  True,  True,  True, False, False,\n",
              "        False, False],\n",
              "       [False, False, False, False,  True,  True,  True, False, False,\n",
              "        False, False, False, False,  True,  True,  True, False, False,\n",
              "        False, False],\n",
              "       [False, False, False, False,  True,  True,  True, False, False,\n",
              "        False, False, False, False,  True,  True,  True, False, False,\n",
              "        False, False],\n",
              "       [False, False, False, False,  True,  True,  True, False, False,\n",
              "        False, False, False, False,  True,  True,  True, False, False,\n",
              "        False, False],\n",
              "       [False, False, False, False,  True,  True,  True, False, False,\n",
              "        False, False, False, False,  True,  True,  True, False, False,\n",
              "        False, False],\n",
              "       [False, False, False, False,  True,  True,  True, False, False,\n",
              "        False, False, False, False,  True,  True,  True, False, False,\n",
              "        False, False],\n",
              "       [False, False, False, False,  True,  True,  True,  True,  True,\n",
              "         True,  True,  True,  True,  True,  True,  True, False, False,\n",
              "        False, False],\n",
              "       [False, False, False, False,  True,  True,  True,  True,  True,\n",
              "         True,  True,  True,  True,  True,  True,  True, False, False,\n",
              "        False, False],\n",
              "       [False, False, False, False,  True,  True,  True,  True,  True,\n",
              "         True,  True,  True,  True,  True,  True,  True, False, False,\n",
              "        False, False],\n",
              "       [False, False, False, False, False, False, False, False, False,\n",
              "        False, False, False, False, False, False, False, False, False,\n",
              "        False, False],\n",
              "       [False, False, False, False, False, False, False, False, False,\n",
              "        False, False, False, False, False, False, False, False, False,\n",
              "        False, False],\n",
              "       [False, False, False, False, False, False, False, False, False,\n",
              "        False, False, False, False, False, False, False, False, False,\n",
              "        False, False],\n",
              "       [False, False, False, False, False, False, False, False, False,\n",
              "        False, False, False, False, False, False, False, False, False,\n",
              "        False, False]])"
            ]
          },
          "metadata": {},
          "execution_count": 5
        }
      ]
    },
    {
      "cell_type": "code",
      "source": [
        "# The compound statement can alternatively be written as\n",
        "compound_index = (img1 > 3) & (img1 < 7)\n",
        "img2 = np.copy(img1)\n",
        "img2[compound_index] = 0\n",
        "plt.imshow(img2)"
      ],
      "metadata": {
        "colab": {
          "base_uri": "https://localhost:8080/",
          "height": 448
        },
        "id": "wwoz0QNP_5DZ",
        "outputId": "c489fb9c-8e1c-4d9d-fdb3-5b4ceee8bd82"
      },
      "execution_count": 4,
      "outputs": [
        {
          "output_type": "execute_result",
          "data": {
            "text/plain": [
              "<matplotlib.image.AxesImage at 0x7e8be8324d00>"
            ]
          },
          "metadata": {},
          "execution_count": 4
        },
        {
          "output_type": "display_data",
          "data": {
            "text/plain": [
              "<Figure size 640x480 with 1 Axes>"
            ],
            "image/png": "[encoded data removed]"
          },
          "metadata": {}
        }
      ]
    },
    {
      "cell_type": "code",
      "source": [
        "# Making the boolean arrays even more complex\n",
        "index3 = img1 == 9\n",
        "index4 = (index1 & index2) | index3\n",
        "img3 = np.copy(img1)\n",
        "img3[index4] = 0\n",
        "plt.imshow(img3)"
      ],
      "metadata": {
        "colab": {
          "base_uri": "https://localhost:8080/",
          "height": 448
        },
        "id": "ubhr7zh3__WV",
        "outputId": "b56d891c-3873-4050-927f-5dd50404a126"
      },
      "execution_count": 6,
      "outputs": [
        {
          "output_type": "execute_result",
          "data": {
            "text/plain": [
              "<matplotlib.image.AxesImage at 0x7e8be83b4310>"
            ]
          },
          "metadata": {},
          "execution_count": 6
        },
        {
          "output_type": "display_data",
          "data": {
            "text/plain": [
              "<Figure size 640x480 with 1 Axes>"
            ],
            "image/png": "[encoded data removed]"
          },
          "metadata": {}
        }
      ]
    },
    {
      "cell_type": "markdown",
      "source": [
        "# Gaussian Distributions\n",
        "\n",
        "A Gaussian distribution, also known as a normal distribution, is a bell-shaped probability distribution that describes the likelihood of values occurring in a dataset. It's one of the most fundamental and widely used concepts in statistics and probability.\n",
        "\n",
        "**Key characteristics of a Gaussian distribution:**\n",
        "\n",
        "* **Symmetrical:** The bell-shaped curve is symmetrical around a central point, called the mean (µ). This indicates that values on either side of the mean are equally likely, with the probability of occurrence decreasing as you move further away from the center.\n",
        "* **Standard Deviation (σ):** The width of the bell curve is determined by the standard deviation (σ). A smaller standard deviation signifies a narrower curve, implying that most values cluster closer to the mean. Conversely, a larger standard deviation results in a wider curve, indicating that values are more spread out.\n",
        "\n",
        "**Where is a Gaussian distribution used?**\n",
        "\n",
        "Gaussian distributions find application in numerous fields due to their ability to model naturally occurring phenomena where values tend to cluster around an average with some variation. Here are some prominent examples:\n",
        "\n",
        "* **Natural Sciences:**  Test scores, heights, weights, physical measurements, and many natural phenomena often exhibit a normal distribution. For instance, the heights of people in a population might follow a Gaussian distribution, with most people falling around an average height and fewer outliers on either end (very short or very tall).\n",
        "\n",
        "* **Economics and Finance:** Stock prices, market fluctuations, and economic indicators often exhibit a normal distribution over time. Deviations from normality can signal potential market trends or economic instability.\n",
        "\n",
        "* **Engineering and Manufacturing:** Manufacturing processes often strive for consistency. Measurements of produced parts typically follow a Gaussian distribution, with most parts conforming to the desired specifications and a small percentage falling outside the acceptable range.\n",
        "\n",
        "* **Machine Learning:**  Gaussian distributions are fundamental building blocks in many machine learning algorithms. They are used for tasks like anomaly detection (identifying unusual data points), classification (categorizing data), and regression (predicting continuous values).\n",
        "\n",
        "**Why is the Gaussian distribution so important?**\n",
        "\n",
        "* **Wide applicability:** The ubiquity of normally distributed data across various domains makes the Gaussian distribution a cornerstone of statistical analysis.\n",
        "* **Central Limit Theorem:** This crucial theorem states that under certain conditions, the sum of a large number of independent random variables, even if they don't follow a normal distribution individually, will tend towards a Gaussian distribution. This allows us to analyze the average behavior of complex systems even if the underlying components are not normally distributed.\n",
        "* **Mathematical tractability:** The mathematical properties of the Gaussian distribution are well-understood, making it relatively easy to calculate probabilities and perform statistical analysis.\n",
        "\n",
        "By understanding the Gaussian distribution, you gain valuable insight into the distribution of data in various fields. It allows you to assess how likely certain values are to occur, identify potential outliers, and make data-driven decisions in numerous applications."
      ],
      "metadata": {
        "id": "Ri1KgJ__Ad4G"
      }
    },
    {
      "cell_type": "markdown",
      "source": [
        "The probability density function (PDF) of a Gaussian distribution is described by the following formula:\n",
        "\n",
        "\n",
        "$$f(x) = \\frac{1}{\\sigma \\sqrt{2\\pi}} \\exp \\left( -\\frac{(x - {\\mu})^2}{2\\sigma^2} \\right)$$\n",
        "\n",
        "Here's a breakdown of the variables involved:\n",
        "\n",
        "* **f(x):** This represents the probability density function. It defines the probability of a specific value (x) occurring in the distribution. The higher the value of f(x), the more likely it is to encounter that value in the dataset.\n",
        "* **μ (mu):** This is the mean of the distribution. It represents the average value around which the data tends to cluster. The bell curve is symmetrical around the mean.\n",
        "* **σ (sigma):** This is the standard deviation of the distribution. It signifies the spread of the data around the mean. A larger standard deviation indicates a wider bell curve, implying more data points are farther from the mean.\n",
        "* **π (pi):** This is the mathematical constant pi (approximately 3.14159).\n",
        "* **exp():** This represents the exponential function. In this context, it calculates the contribution of a specific data point (x) to the overall shape of the bell curve.\n",
        "\n",
        "**Understanding the formula:**\n",
        "\n",
        "1. **Normalization:** The term (1 / σ√(2π)) ensures that the total area under the curve integrates to 1. This signifies that the sum of the probabilities for all possible values (x) across the entire distribution equals 1.\n",
        "2. **Distance from the Mean:** The term (x - μ) represents the deviation of a specific value (x) from the mean (μ).\n",
        "3. **Squared Deviation:** This term is squared ((x - μ)²) to emphasize the importance of larger deviations from the mean. Values closer to the mean have a smaller impact on the overall shape compared to those further away.\n",
        "4. **Effect of Standard Deviation:** The term (2σ²) in the denominator controls the spread of the curve. A smaller standard deviation (σ) results in a larger denominator, effectively pushing the exponential term closer to 1 for most values (x) near the mean. This creates a narrower bell curve. Conversely, a larger standard deviation (σ) leads to a smaller denominator, causing the exponential term to deviate more significantly from 1 for values further from the mean, resulting in a wider bell curve.\n",
        "\n",
        "By understanding this formula and the roles of the variables, you can interpret the shape of a Gaussian distribution and calculate the probability of encountering specific values within the dataset it represents."
      ],
      "metadata": {
        "id": "vC_mp0yeA3rK"
      }
    },
    {
      "cell_type": "code",
      "source": [
        "# Creating a 100-element array with random values\n",
        "# from a standard normal distribution or, in other\n",
        "# words, a Gaussian distribution.\n",
        "# The sigma is 1 and the mean is 0.\n",
        "a = rand.randn(100)"
      ],
      "metadata": {
        "id": "pO_L9B8DAP7u"
      },
      "execution_count": 24,
      "outputs": []
    },
    {
      "cell_type": "code",
      "source": [
        "plt.hist(np.sort(a))"
      ],
      "metadata": {
        "colab": {
          "base_uri": "https://localhost:8080/",
          "height": 521
        },
        "id": "szGHcPH4Bq_X",
        "outputId": "ecfd70b6-a3a2-44ef-dea5-aa209e2aaf29"
      },
      "execution_count": 25,
      "outputs": [
        {
          "output_type": "execute_result",
          "data": {
            "text/plain": [
              "(array([ 8.,  9., 16., 19., 24.,  5.,  8.,  7.,  3.,  1.]),\n",
              " array([-1.95790613, -1.50754468, -1.05718322, -0.60682177, -0.15646031,\n",
              "         0.29390115,  0.7442626 ,  1.19462406,  1.64498552,  2.09534697,\n",
              "         2.54570843]),\n",
              " <BarContainer object of 10 artists>)"
            ]
          },
          "metadata": {},
          "execution_count": 25
        },
        {
          "output_type": "display_data",
          "data": {
            "text/plain": [
              "<Figure size 640x480 with 1 Axes>"
            ],
            "image/png": "[encoded data removed]"
          },
          "metadata": {}
        }
      ]
    },
    {
      "cell_type": "code",
      "source": [
        "# we can also use the random utility functions in NumPy\n",
        "s = np.random.normal(0, 1, 1000)"
      ],
      "metadata": {
        "id": "xFVvIlerBsPX"
      },
      "execution_count": 16,
      "outputs": []
    },
    {
      "cell_type": "code",
      "source": [
        "plt.hist(np.sort(s))"
      ],
      "metadata": {
        "colab": {
          "base_uri": "https://localhost:8080/",
          "height": 519
        },
        "id": "VCSGV4iBDB2b",
        "outputId": "4d77df04-92ce-42db-c9e6-fa633981eff2"
      },
      "execution_count": 19,
      "outputs": [
        {
          "output_type": "execute_result",
          "data": {
            "text/plain": [
              "(array([  3.,  14.,  48., 121., 193., 255., 183., 127.,  45.,  11.]),\n",
              " array([-3.36093595, -2.73515773, -2.10937951, -1.4836013 , -0.85782308,\n",
              "        -0.23204486,  0.39373336,  1.01951157,  1.64528979,  2.27106801,\n",
              "         2.89684623]),\n",
              " <BarContainer object of 10 artists>)"
            ]
          },
          "metadata": {},
          "execution_count": 19
        },
        {
          "output_type": "display_data",
          "data": {
            "text/plain": [
              "<Figure size 640x480 with 1 Axes>"
            ],
            "image/png": "[encoded data removed]"
          },
          "metadata": {}
        }
      ]
    },
    {
      "cell_type": "code",
      "source": [
        "# Here we generate an index for filtering\n",
        "# out undesired elements.\n",
        "index = a > 0.2\n",
        "b = a[index]"
      ],
      "metadata": {
        "id": "64pBOVkUDDGy"
      },
      "execution_count": 30,
      "outputs": []
    },
    {
      "cell_type": "code",
      "source": [
        "index[:10]"
      ],
      "metadata": {
        "colab": {
          "base_uri": "https://localhost:8080/"
        },
        "id": "oA3ifWSAETuA",
        "outputId": "b067eedf-8da4-44c7-fe7e-7db99e2afbe8"
      },
      "execution_count": 31,
      "outputs": [
        {
          "output_type": "execute_result",
          "data": {
            "text/plain": [
              "array([ True, False,  True, False, False,  True, False, False, False,\n",
              "        True])"
            ]
          },
          "metadata": {},
          "execution_count": 31
        }
      ]
    },
    {
      "cell_type": "code",
      "source": [
        "# note that b is not sparse\n",
        "b[:10]"
      ],
      "metadata": {
        "colab": {
          "base_uri": "https://localhost:8080/"
        },
        "id": "2VZqvsdeEWfk",
        "outputId": "1e1241fc-f903-465d-d7cf-ddb5c57bfef4"
      },
      "execution_count": 32,
      "outputs": [
        {
          "output_type": "execute_result",
          "data": {
            "text/plain": [
              "array([1.44984245, 1.44581981, 1.06363284, 1.4427073 , 0.23395008,\n",
              "       1.18101487, 1.14840368, 1.42760372, 1.40177549, 0.58449793])"
            ]
          },
          "metadata": {},
          "execution_count": 32
        }
      ]
    },
    {
      "cell_type": "code",
      "source": [
        "# and its not the same as a\n",
        "a[:10]"
      ],
      "metadata": {
        "colab": {
          "base_uri": "https://localhost:8080/"
        },
        "id": "xA3xK7z5EY4f",
        "outputId": "518abe1e-4ec7-40e5-fb5b-2f1b9d35addf"
      },
      "execution_count": 33,
      "outputs": [
        {
          "output_type": "execute_result",
          "data": {
            "text/plain": [
              "array([ 1.44984245, -0.86459998,  1.44581981, -1.59541949, -0.35804619,\n",
              "        1.06363284, -1.38477893, -1.68160609, -1.58686871,  1.4427073 ])"
            ]
          },
          "metadata": {},
          "execution_count": 33
        }
      ]
    },
    {
      "cell_type": "code",
      "source": [
        "# We execute some operation on the desired elements.\n",
        "b = b ** 2 - 2"
      ],
      "metadata": {
        "id": "YfNlVRKeEepw"
      },
      "execution_count": 34,
      "outputs": []
    },
    {
      "cell_type": "code",
      "source": [
        "b[:10]"
      ],
      "metadata": {
        "colab": {
          "base_uri": "https://localhost:8080/"
        },
        "id": "3gp3l9srEobt",
        "outputId": "ecfb512c-8b73-400e-bca0-928dfaf862e4"
      },
      "execution_count": 35,
      "outputs": [
        {
          "output_type": "execute_result",
          "data": {
            "text/plain": [
              "array([ 0.10204313,  0.09039493, -0.86868518,  0.08140434, -1.94526736,\n",
              "       -0.60520388, -0.68116899,  0.03805238, -0.03502546, -1.65836217])"
            ]
          },
          "metadata": {},
          "execution_count": 35
        }
      ]
    },
    {
      "cell_type": "markdown",
      "source": [
        "# Vectorized Operations\n",
        "\n",
        "In NumPy (Numerical Python), vectorized operations refer to performing mathematical computations on entire arrays at once, rather than using loops to iterate through individual elements. This approach offers significant performance advantages, especially when dealing with large datasets.\n",
        "\n",
        "Here's a breakdown of vectorized operations in NumPy:\n",
        "\n",
        "**Concept:**\n",
        "\n",
        "* NumPy arrays store elements of the same data type. This allows NumPy to perform operations directly on the entire array structure, leveraging optimized code written in C or Fortran for faster execution.\n",
        "* Vectorized operations eliminate the need for explicit loops (like `for` loops) in Python, which can be slow for numerical computations.\n",
        "\n",
        "**Benefits:**\n",
        "\n",
        "* **Speed:** Vectorized operations are significantly faster than their non-vectorized counterparts, especially for large arrays.\n",
        "* **Conciseness:** Vectorized code is often more concise and readable compared to loop-based approaches.\n",
        "* **Readability:** The code clearly expresses the operation being performed on the entire array.\n",
        "\n",
        "**Examples of Vectorized Operations:**\n",
        "\n",
        "* **Basic Arithmetic:** Addition, subtraction, multiplication, division, exponentiation, and other mathematical operations can be performed directly on NumPy arrays of compatible shapes.\n",
        "* **Element-wise Operations:** NumPy supports element-wise operations, meaning the operation is applied to corresponding elements between two arrays of the same shape.\n",
        "* **Array Broadcasting:** NumPy allows operations between arrays of different shapes under certain conditions, automatically performing element-wise operations where necessary.\n",
        "* **Mathematical Functions:** NumPy provides various mathematical functions (like `sin`, `cos`, `exp`, etc.) that operate on entire arrays element-wise.\n",
        "\n",
        "**How to achieve Vectorization:**\n",
        "\n",
        "* **NumPy Operators:** Basic arithmetic operators (`+`, `-`, `*`, `/`, etc.) work element-wise on NumPy arrays.\n",
        "* **Universal Functions (ufuncs):** NumPy provides a rich set of mathematical functions that operate on arrays element-wise. These functions are typically accessed through their module names (e.g., `np.sin(array)`, `np.exp(array)`).\n",
        "* **Array Methods:** Many NumPy arrays have built-in methods that perform vectorized operations (e.g., `array.sum()`, `array.mean()`, etc.).\n",
        "\n",
        "**Example (Vectorized vs. Non-vectorized addition):**\n",
        "\n",
        "```python\n",
        "import numpy as np\n",
        "\n",
        "# Non-vectorized approach (using a loop)\n",
        "data1 = np.arange(10)\n",
        "data2 = np.arange(10)\n",
        "result_non_vectorized = []\n",
        "for i in range(len(data1)):\n",
        "  result_non_vectorized.append(data1[i] + data2[i])\n",
        "\n",
        "# Vectorized approach (using + operator)\n",
        "result_vectorized = data1 + data2\n",
        "\n",
        "print(\"Non-vectorized result:\", result_non_vectorized)\n",
        "print(\"Vectorized result:\", result_vectorized)\n",
        "```\n",
        "\n",
        "In this example, the vectorized approach using the `+` operator is significantly faster and more concise compared to the non-vectorized loop-based approach.\n",
        "\n",
        "By effectively utilizing vectorized operations, you can write efficient and performant NumPy code for numerical computations on large datasets."
      ],
      "metadata": {
        "id": "ZokS8Ix-E59h"
      }
    },
    {
      "cell_type": "code",
      "source": [
        "# Then we put the modified elements back into the original array.\n",
        "# Note: this assignment is tricky - look at it carefully!!\n",
        "a[index] = b"
      ],
      "metadata": {
        "id": "UhGYXQf5EqN3"
      },
      "execution_count": 36,
      "outputs": []
    },
    {
      "cell_type": "code",
      "source": [
        "a[:10]"
      ],
      "metadata": {
        "colab": {
          "base_uri": "https://localhost:8080/"
        },
        "id": "iMDo-g_UFH_L",
        "outputId": "a59f296d-6731-4c53-f94b-3662aa950f79"
      },
      "execution_count": 37,
      "outputs": [
        {
          "output_type": "execute_result",
          "data": {
            "text/plain": [
              "array([ 0.10204313, -0.86459998,  0.09039493, -1.59541949, -0.35804619,\n",
              "       -0.86868518, -1.38477893, -1.68160609, -1.58686871,  0.08140434])"
            ]
          },
          "metadata": {},
          "execution_count": 37
        }
      ]
    },
    {
      "cell_type": "markdown",
      "source": [
        "# Binary Files"
      ],
      "metadata": {
        "id": "vkcsbGniFkXh"
      }
    },
    {
      "cell_type": "code",
      "source": [
        "# Creating a large array\n",
        "data = np.empty((1000, 1000))"
      ],
      "metadata": {
        "id": "kOsBMa-qFQLB"
      },
      "execution_count": 38,
      "outputs": []
    },
    {
      "cell_type": "code",
      "source": [
        "data.nbytes"
      ],
      "metadata": {
        "colab": {
          "base_uri": "https://localhost:8080/"
        },
        "id": "1RMmSLJZFnxs",
        "outputId": "66ffa655-a803-45c9-ad3c-bdf2e6625f70"
      },
      "execution_count": 39,
      "outputs": [
        {
          "output_type": "execute_result",
          "data": {
            "text/plain": [
              "8000000"
            ]
          },
          "metadata": {},
          "execution_count": 39
        }
      ]
    },
    {
      "cell_type": "code",
      "source": [
        "# Saving the array with numpy.save\n",
        "np.save('test.npy', data)"
      ],
      "metadata": {
        "id": "xI5GeU7HFpIy"
      },
      "execution_count": 40,
      "outputs": []
    },
    {
      "cell_type": "code",
      "source": [
        "!ls"
      ],
      "metadata": {
        "colab": {
          "base_uri": "https://localhost:8080/"
        },
        "id": "dsNGvOnIFuyy",
        "outputId": "b99eff3d-3490-4d4d-ce3b-66cd70e8904b"
      },
      "execution_count": 41,
      "outputs": [
        {
          "output_type": "stream",
          "name": "stdout",
          "text": [
            "sample_data  test.npy\n"
          ]
        }
      ]
    },
    {
      "cell_type": "code",
      "source": [
        "!file test.npy"
      ],
      "metadata": {
        "colab": {
          "base_uri": "https://localhost:8080/"
        },
        "id": "A8YrhDHHFv3t",
        "outputId": "645d5b37-504c-4f42-bd99-568da958434b"
      },
      "execution_count": 42,
      "outputs": [
        {
          "output_type": "stream",
          "name": "stdout",
          "text": [
            "test.npy: NumPy array, version 1.0, header length 118\n"
          ]
        }
      ]
    },
    {
      "cell_type": "code",
      "source": [
        "# If space is an issue for large files, then\n",
        "# use numpy.savez instead. It is slower than\n",
        "# numpy.save because it compresses the binary # file.\n",
        "np.savez('test.npz', data)"
      ],
      "metadata": {
        "id": "y7JpRt-EFyyG"
      },
      "execution_count": 43,
      "outputs": []
    },
    {
      "cell_type": "code",
      "source": [
        "!ls"
      ],
      "metadata": {
        "colab": {
          "base_uri": "https://localhost:8080/"
        },
        "id": "iCR0u6p_F1zW",
        "outputId": "5722347e-c5b1-43d4-b994-cd7a0844b5f2"
      },
      "execution_count": 44,
      "outputs": [
        {
          "output_type": "stream",
          "name": "stdout",
          "text": [
            "sample_data  test.npy  test.npz\n"
          ]
        }
      ]
    },
    {
      "cell_type": "code",
      "source": [
        "!file test.npz"
      ],
      "metadata": {
        "colab": {
          "base_uri": "https://localhost:8080/"
        },
        "id": "M6yzP1jhF2ob",
        "outputId": "6ba0cf42-7a85-4d03-fb13-f06123d876fe"
      },
      "execution_count": 45,
      "outputs": [
        {
          "output_type": "stream",
          "name": "stdout",
          "text": [
            "test.npz: Zip archive data, at least v2.0 to extract, compression method=store\n"
          ]
        }
      ]
    },
    {
      "cell_type": "code",
      "source": [
        "# Loading the data array\n",
        "newdata = np.load('test.npy')"
      ],
      "metadata": {
        "id": "LDftzZx7F49O"
      },
      "execution_count": 46,
      "outputs": []
    },
    {
      "cell_type": "code",
      "source": [
        "np.alltrue(data == newdata)"
      ],
      "metadata": {
        "colab": {
          "base_uri": "https://localhost:8080/"
        },
        "id": "aEWde1vbF8d5",
        "outputId": "6e4750cf-0945-4120-fc09-3001e2c5b5bd"
      },
      "execution_count": 47,
      "outputs": [
        {
          "output_type": "execute_result",
          "data": {
            "text/plain": [
              "True"
            ]
          },
          "metadata": {},
          "execution_count": 47
        }
      ]
    },
    {
      "cell_type": "code",
      "source": [
        "os.remove('test.npy')"
      ],
      "metadata": {
        "id": "bLfkJjH-GCKv"
      },
      "execution_count": 48,
      "outputs": []
    },
    {
      "cell_type": "code",
      "source": [
        "os.remove('test.npz')"
      ],
      "metadata": {
        "id": "DQPyC7FrGHnp"
      },
      "execution_count": 49,
      "outputs": []
    },
    {
      "cell_type": "code",
      "source": [
        "!ls"
      ],
      "metadata": {
        "colab": {
          "base_uri": "https://localhost:8080/"
        },
        "id": "DEq8QukcGJDZ",
        "outputId": "fbd59a51-ff00-4354-e8c2-4008a90b8d83"
      },
      "execution_count": 50,
      "outputs": [
        {
          "output_type": "stream",
          "name": "stdout",
          "text": [
            "sample_data\n"
          ]
        }
      ]
    },
    {
      "cell_type": "markdown",
      "source": [
        "# Solving Equations\n",
        "\n",
        "```\n",
        "3x + 6y − 5z = 12\n",
        "x − 3y + 2z = −2\n",
        "5x − y + 4z = 10\n",
        "```"
      ],
      "metadata": {
        "id": "mwczZ9eoGN0D"
      }
    },
    {
      "cell_type": "code",
      "source": [
        "# left size of the equation\n",
        "a = np.array([[3, 6, -5],\n",
        "              [1, -3, 2],\n",
        "              [5, -1, 4]])"
      ],
      "metadata": {
        "id": "TjtAhNnZGJpM"
      },
      "execution_count": 51,
      "outputs": []
    },
    {
      "cell_type": "code",
      "source": [
        "# and the right size (y)\n",
        "b = np.array([12, -2, 10])"
      ],
      "metadata": {
        "id": "2Qd1TgatGX8F"
      },
      "execution_count": 52,
      "outputs": []
    },
    {
      "cell_type": "code",
      "source": [
        "# Solving for the variables, where we invert A\n",
        "x = np.linalg.inv(a).dot(b)\n",
        "print(x)"
      ],
      "metadata": {
        "colab": {
          "base_uri": "https://localhost:8080/"
        },
        "id": "7PJVZqWSGZ9w",
        "outputId": "a7965c15-3296-477c-f827-039a36e0d4be"
      },
      "execution_count": 53,
      "outputs": [
        {
          "output_type": "stream",
          "name": "stdout",
          "text": [
            "[1.75 1.75 0.75]\n"
          ]
        }
      ]
    },
    {
      "cell_type": "code",
      "source": [],
      "metadata": {
        "id": "YD9x4xd2Gdw6"
      },
      "execution_count": null,
      "outputs": []
    }
  ]
}