{
  "nbformat": 4,
  "nbformat_minor": 0,
  "metadata": {
    "colab": {
      "provenance": [],
      "machine_shape": "hm",
      "gpuType": "A100",
      "authorship_tag": "ABX9TyPaXcj0dv7IHokoBwbamavX",
      "include_colab_link": true
    },
    "kernelspec": {
      "name": "python3",
      "display_name": "Python 3"
    },
    "language_info": {
      "name": "python"
    },
    "accelerator": "GPU"
  },
  "cells": [
    {
      "cell_type": "markdown",
      "metadata": {
        "id": "view-in-github",
        "colab_type": "text"
      },
      "source": [
        "<a href=\"https://colab.research.google.com/github/vijjus/ST-summer-2024/blob/main/FaceRecognition.ipynb\" target=\"_parent\"><img src=\"https://colab.research.google.com/assets/colab-badge.svg\" alt=\"Open In Colab\"/></a>"
      ]
    },
    {
      "cell_type": "code",
      "source": [
        "!git clone https://github.com/vijjus/ST-summer-2024.git"
      ],
      "metadata": {
        "id": "70TJKUWqZPnT"
      },
      "execution_count": null,
      "outputs": []
    },
    {
      "cell_type": "code",
      "source": [
        "!ls"
      ],
      "metadata": {
        "id": "hM5dnlZzZURZ"
      },
      "execution_count": null,
      "outputs": []
    },
    {
      "cell_type": "code",
      "source": [
        "!pip3 install face_recognition"
      ],
      "metadata": {
        "id": "vkuTmhsHSEoF"
      },
      "execution_count": null,
      "outputs": []
    },
    {
      "cell_type": "code",
      "execution_count": null,
      "metadata": {
        "id": "SG4mnx-gRvJG"
      },
      "outputs": [],
      "source": [
        "import face_recognition\n",
        "import matplotlib.pyplot as plt"
      ]
    },
    {
      "cell_type": "code",
      "source": [
        "picture_of_me = face_recognition.load_image_file(\"ST-summer-2024/vijay1.png\")"
      ],
      "metadata": {
        "id": "5YVZ34KtRz9x"
      },
      "execution_count": null,
      "outputs": []
    },
    {
      "cell_type": "code",
      "source": [
        "plt.imshow(picture_of_me)"
      ],
      "metadata": {
        "id": "lH_oM8KsTN4i"
      },
      "execution_count": null,
      "outputs": []
    },
    {
      "cell_type": "code",
      "source": [
        "my_face_encoding = face_recognition.face_encodings(picture_of_me)[0]"
      ],
      "metadata": {
        "id": "RYF0Zm4kTSGs"
      },
      "execution_count": null,
      "outputs": []
    },
    {
      "cell_type": "code",
      "source": [
        "type(my_face_encoding)"
      ],
      "metadata": {
        "id": "V_wvUYpJTWIk"
      },
      "execution_count": null,
      "outputs": []
    },
    {
      "cell_type": "code",
      "source": [
        "my_face_encoding.shape"
      ],
      "metadata": {
        "id": "RXewyoBMTYHx"
      },
      "execution_count": null,
      "outputs": []
    },
    {
      "cell_type": "code",
      "source": [
        "my_face_encoding"
      ],
      "metadata": {
        "id": "iqKdtRwWTagS"
      },
      "execution_count": null,
      "outputs": []
    },
    {
      "cell_type": "code",
      "source": [
        "picture1 = face_recognition.load_image_file(\"ST-summer-2024/vijay2.png\")"
      ],
      "metadata": {
        "id": "5IHxJ0SLTcBz"
      },
      "execution_count": null,
      "outputs": []
    },
    {
      "cell_type": "code",
      "source": [
        "plt.imshow(picture1)"
      ],
      "metadata": {
        "id": "ZP-OivtqUL4F"
      },
      "execution_count": null,
      "outputs": []
    },
    {
      "cell_type": "code",
      "source": [
        "picture1_encoding = face_recognition.face_encodings(picture1)[0]"
      ],
      "metadata": {
        "id": "HmLPKkfGTlGh"
      },
      "execution_count": null,
      "outputs": []
    },
    {
      "cell_type": "code",
      "source": [
        "results = face_recognition.compare_faces([my_face_encoding], picture1_encoding)"
      ],
      "metadata": {
        "id": "SmcWET-ATwcQ"
      },
      "execution_count": null,
      "outputs": []
    },
    {
      "cell_type": "code",
      "source": [
        "results"
      ],
      "metadata": {
        "id": "Z_XVz4GuUA4C"
      },
      "execution_count": null,
      "outputs": []
    },
    {
      "cell_type": "code",
      "source": [
        "def compare_encodings(mine, other):\n",
        "  results = face_recognition.compare_faces([mine], other)\n",
        "  if results[0] == True:\n",
        "    print(\"It's a picture of me!\")\n",
        "  else:\n",
        "    print(\"It's not a picture of me!\")"
      ],
      "metadata": {
        "id": "NSbh9ZSiT06r"
      },
      "execution_count": null,
      "outputs": []
    },
    {
      "cell_type": "code",
      "source": [
        "compare_encodings(my_face_encoding, picture1_encoding)"
      ],
      "metadata": {
        "id": "a7qnXP-0UFVL"
      },
      "execution_count": null,
      "outputs": []
    },
    {
      "cell_type": "code",
      "source": [
        "picture2 = face_recognition.load_image_file(\"ST-summer-2024/vijay3.png\")"
      ],
      "metadata": {
        "id": "bNCoDriRUKNV"
      },
      "execution_count": null,
      "outputs": []
    },
    {
      "cell_type": "code",
      "source": [
        "plt.imshow(picture2)"
      ],
      "metadata": {
        "id": "ElXNWXIXUVbO"
      },
      "execution_count": null,
      "outputs": []
    },
    {
      "cell_type": "code",
      "source": [
        "picture2_encoding = face_recognition.face_encodings(picture2)[0]"
      ],
      "metadata": {
        "id": "79_TFZ1MUYYo"
      },
      "execution_count": null,
      "outputs": []
    },
    {
      "cell_type": "code",
      "source": [
        "compare_encodings(my_face_encoding, picture2_encoding)"
      ],
      "metadata": {
        "id": "6JA52QGXUc6O"
      },
      "execution_count": null,
      "outputs": []
    },
    {
      "cell_type": "code",
      "source": [
        "unknown_pic = face_recognition.load_image_file(\"ST-summer-2024/principal.jpeg\")"
      ],
      "metadata": {
        "id": "VhmIgYJYUf0D"
      },
      "execution_count": null,
      "outputs": []
    },
    {
      "cell_type": "code",
      "source": [
        "plt.imshow(unknown_pic)"
      ],
      "metadata": {
        "id": "EzJ7gGNuU76o"
      },
      "execution_count": null,
      "outputs": []
    },
    {
      "cell_type": "code",
      "source": [
        "unk_encoding = face_recognition.face_encodings(unknown_pic)[0]"
      ],
      "metadata": {
        "id": "XD2en-qHVAIr"
      },
      "execution_count": null,
      "outputs": []
    },
    {
      "cell_type": "code",
      "source": [
        "compare_encodings(my_face_encoding, unk_encoding)"
      ],
      "metadata": {
        "id": "sFUl0Fn1VGj4"
      },
      "execution_count": null,
      "outputs": []
    },
    {
      "cell_type": "code",
      "source": [
        "unk_encoding"
      ],
      "metadata": {
        "id": "lw3cRrkUVKbM"
      },
      "execution_count": null,
      "outputs": []
    },
    {
      "cell_type": "code",
      "source": [
        "from numpy import dot\n",
        "from numpy.linalg import norm"
      ],
      "metadata": {
        "id": "k8JJLgWiVOVM"
      },
      "execution_count": null,
      "outputs": []
    },
    {
      "cell_type": "code",
      "source": [
        "def cos_sim(a, b):\n",
        "  cs = dot(a, b)/(norm(a)*norm(b))\n",
        "  print(cs)"
      ],
      "metadata": {
        "id": "aJ8bsGpOWAKI"
      },
      "execution_count": null,
      "outputs": []
    },
    {
      "cell_type": "code",
      "source": [
        "cos_sim(my_face_encoding, picture1_encoding)"
      ],
      "metadata": {
        "id": "wzm_WAVPWKaJ"
      },
      "execution_count": null,
      "outputs": []
    },
    {
      "cell_type": "code",
      "source": [
        "cos_sim(my_face_encoding, unk_encoding)"
      ],
      "metadata": {
        "id": "MA0OYPxSWOkE"
      },
      "execution_count": null,
      "outputs": []
    },
    {
      "cell_type": "code",
      "source": [
        "def encode_image(image_path):\n",
        "  img = face_recognition.load_image_file(image_path)\n",
        "  img_encoding = face_recognition.face_encodings(img)[0]\n",
        "  plt.imshow(img)\n",
        "  plt.show()\n",
        "  return img_encoding"
      ],
      "metadata": {
        "id": "3CDaNgVfWTN2"
      },
      "execution_count": null,
      "outputs": []
    },
    {
      "cell_type": "code",
      "source": [
        "img_encoding = encode_image(\"ST-summer-2024/mynguyen.jpeg\")"
      ],
      "metadata": {
        "id": "zflxvfmHWvZL"
      },
      "execution_count": null,
      "outputs": []
    },
    {
      "cell_type": "code",
      "source": [
        "cos_sim(my_face_encoding, img_encoding)"
      ],
      "metadata": {
        "id": "T5Ic8VQmW-6h"
      },
      "execution_count": null,
      "outputs": []
    },
    {
      "cell_type": "code",
      "source": [
        "doggy_encoding = encode_image(\"ST-summer-2024/doggy.jpeg\")"
      ],
      "metadata": {
        "id": "dO6Zb_ADXEt7"
      },
      "execution_count": null,
      "outputs": []
    },
    {
      "cell_type": "code",
      "source": [
        "def encode_image(image_path):\n",
        "  img = face_recognition.load_image_file(image_path)\n",
        "  plt.imshow(img)\n",
        "  plt.show()\n",
        "  try:\n",
        "    img_encoding = face_recognition.face_encodings(img)[0]\n",
        "  except Exception as e:\n",
        "    print(f\"ERROR: {e}\")\n",
        "    return None\n",
        "  return img_encoding"
      ],
      "metadata": {
        "id": "sv9mRSm9YEnS"
      },
      "execution_count": null,
      "outputs": []
    },
    {
      "cell_type": "code",
      "source": [
        "doggy_encoding = encode_image(\"ST-summer-2024/doggy.jpeg\")"
      ],
      "metadata": {
        "id": "uY2fnn4dXmBG"
      },
      "execution_count": null,
      "outputs": []
    },
    {
      "cell_type": "code",
      "source": [],
      "metadata": {
        "id": "-OwYqZNaXqoN"
      },
      "execution_count": null,
      "outputs": []
    }
  ]
}