{
  "nbformat": 4,
  "nbformat_minor": 0,
  "metadata": {
    "colab": {
      "provenance": [],
      "machine_shape": "hm",
      "gpuType": "V100",
      "authorship_tag": "ABX9TyNaMSvBBm5U9VNOV5bF3Vvv",
      "include_colab_link": true
    },
    "kernelspec": {
      "name": "python3",
      "display_name": "Python 3"
    },
    "language_info": {
      "name": "python"
    },
    "accelerator": "GPU"
  },
  "cells": [
    {
      "cell_type": "markdown",
      "metadata": {
        "id": "view-in-github",
        "colab_type": "text"
      },
      "source": [
        "<a href=\"https://colab.research.google.com/github/vijjus/ST-summer-2024/blob/main/Intro.ipynb\" target=\"_parent\"><img src=\"https://colab.research.google.com/assets/colab-badge.svg\" alt=\"Open In Colab\"/></a>"
      ]
    },
    {
      "cell_type": "code",
      "source": [
        "!git clone https://github.com/vijjus/ST-summer-2024.git"
      ],
      "metadata": {
        "id": "V5cn8cw1VcEm"
      },
      "execution_count": null,
      "outputs": []
    },
    {
      "cell_type": "code",
      "source": [
        "!ls"
      ],
      "metadata": {
        "id": "xBZsYUTeVnD7"
      },
      "execution_count": null,
      "outputs": []
    },
    {
      "cell_type": "code",
      "execution_count": null,
      "metadata": {
        "id": "St96t4tzI1nh"
      },
      "outputs": [],
      "source": [
        "# we will be using the following packages for our work today\n",
        "import dlib\n",
        "import cv2\n",
        "import imutils\n",
        "import matplotlib.pyplot as plt"
      ]
    },
    {
      "cell_type": "code",
      "source": [
        "# If you don't see an output from this command, click Runtime -> Change runtime type\n",
        "# Pick V100\n",
        "# Runtime should prompt to restart\n",
        "!nvidia-smi"
      ],
      "metadata": {
        "id": "l1TJ3Nj5TRcu"
      },
      "execution_count": null,
      "outputs": []
    },
    {
      "cell_type": "markdown",
      "source": [
        "Facial recognition - use a model to detect and identify a face."
      ],
      "metadata": {
        "id": "46o2tOU_JYRl"
      }
    },
    {
      "cell_type": "code",
      "source": [
        "image1 = cv2.imread(\"ST-summer-2024/family.jpeg\", cv2.IMREAD_COLOR)"
      ],
      "metadata": {
        "id": "Uu6S8QeTK3Gb"
      },
      "execution_count": null,
      "outputs": []
    },
    {
      "cell_type": "code",
      "source": [
        "# resize - mainly needed for smaller images\n",
        "image1 = imutils.resize(image1, width=600)"
      ],
      "metadata": {
        "id": "voGGK_xGNjXk"
      },
      "execution_count": null,
      "outputs": []
    },
    {
      "cell_type": "code",
      "source": [
        "# color images have 3 channels - Red (R), Blue (B), Green (G)\n",
        "# change from BGR to RGB format (OpenCV loads images in BGR format)\n",
        "image1 = cv2.cvtColor(image1, cv2.COLOR_BGR2RGB)"
      ],
      "metadata": {
        "id": "B9W0tyW1NpI1"
      },
      "execution_count": null,
      "outputs": []
    },
    {
      "cell_type": "code",
      "source": [
        "plt.figure(figsize=(10,20))\n",
        "plt.imshow(image1)"
      ],
      "metadata": {
        "id": "76H3pGXuMLNI"
      },
      "execution_count": null,
      "outputs": []
    },
    {
      "cell_type": "code",
      "source": [
        "# This is the first detector we are going to try call HOG + SVM\n",
        "# Histogram of Gradients + Support Vector Machine\n",
        "detector = dlib.get_frontal_face_detector()"
      ],
      "metadata": {
        "id": "P55y_QkeKOW5"
      },
      "execution_count": null,
      "outputs": []
    },
    {
      "cell_type": "code",
      "source": [
        "# This detector is good at detecting frontal faces\n",
        "# XXX: Try detecting a sideways facing face with this detector\n",
        "rects = detector(image1)"
      ],
      "metadata": {
        "id": "_7PaTi7jNxK0"
      },
      "execution_count": null,
      "outputs": []
    },
    {
      "cell_type": "code",
      "source": [
        "# convenience function to take co-ordinates and convert them to bbox format\n",
        "# bbox = Bounding Box (used to mark sections of an image)\n",
        "def convert_and_trim_bb(image, rect):\n",
        "\t# extract the starting and ending (x, y)-coordinates of the\n",
        "\t# bounding box\n",
        "\tstartX = rect.left()\n",
        "\tstartY = rect.top()\n",
        "\tendX = rect.right()\n",
        "\tendY = rect.bottom()\n",
        "\t# ensure the bounding box coordinates fall within the spatial\n",
        "\t# dimensions of the image\n",
        "\tstartX = max(0, startX)\n",
        "\tstartY = max(0, startY)\n",
        "\tendX = min(endX, image.shape[1])\n",
        "\tendY = min(endY, image.shape[0])\n",
        "\t# compute the width and height of the bounding box\n",
        "\tw = endX - startX\n",
        "\th = endY - startY\n",
        "\t# return our bounding box coordinates\n",
        "\treturn (startX, startY, w, h)"
      ],
      "metadata": {
        "id": "Eve_yVgVMSGa"
      },
      "execution_count": null,
      "outputs": []
    },
    {
      "cell_type": "code",
      "source": [
        "# convert the resulting dlib rectangle objects to bounding boxes,\n",
        "# then ensure the bounding boxes are all within the bounds of the\n",
        "# input image\n",
        "boxes = [convert_and_trim_bb(image1, r) for r in rects]"
      ],
      "metadata": {
        "id": "7rpe5klfN73U"
      },
      "execution_count": null,
      "outputs": []
    },
    {
      "cell_type": "code",
      "source": [
        "# the boxes are the X, Y (top left, width & height)\n",
        "boxes"
      ],
      "metadata": {
        "id": "hx7IWEcROWVB"
      },
      "execution_count": null,
      "outputs": []
    },
    {
      "cell_type": "code",
      "source": [
        "# loop over the bounding boxes\n",
        "for (x, y, w, h) in boxes:\n",
        "\t# draw the bounding box on our image\n",
        "\tcv2.rectangle(image1, (x, y), (x + w, y + h), (0, 255, 0), 2)"
      ],
      "metadata": {
        "id": "aJmjcliaOBfL"
      },
      "execution_count": null,
      "outputs": []
    },
    {
      "cell_type": "code",
      "source": [
        "plt.figure(figsize=(10,20))\n",
        "plt.imshow(image1, cmap=\"gray\")"
      ],
      "metadata": {
        "id": "MvbRNo1kOEc_"
      },
      "execution_count": null,
      "outputs": []
    },
    {
      "cell_type": "code",
      "source": [
        "# Now we will try a Concolutional Neural Network based detector\n",
        "detector2 = dlib.cnn_face_detection_model_v1(\"/content/mmod_human_face_detector.dat\")"
      ],
      "metadata": {
        "id": "NbMoYNPLOJzf"
      },
      "execution_count": null,
      "outputs": []
    },
    {
      "cell_type": "code",
      "source": [
        "image2 = cv2.imread(\"ST-summer-2024/family.jpeg\", cv2.IMREAD_COLOR)"
      ],
      "metadata": {
        "id": "vURZKKcOY1wZ"
      },
      "execution_count": null,
      "outputs": []
    },
    {
      "cell_type": "code",
      "source": [
        "# resize - mainly needed for smaller images\n",
        "image2 = imutils.resize(image2, width=600)"
      ],
      "metadata": {
        "id": "GF4W-pl2Y8Rj"
      },
      "execution_count": null,
      "outputs": []
    },
    {
      "cell_type": "code",
      "source": [
        "# color images have 3 channels - Red (R), Blue (B), Green (G)\n",
        "# change from BGR to RGB format (OpenCV loads images in BGR format)\n",
        "image2 = cv2.cvtColor(image2, cv2.COLOR_BGR2RGB)"
      ],
      "metadata": {
        "id": "MuguFEkaZCCP"
      },
      "execution_count": null,
      "outputs": []
    },
    {
      "cell_type": "code",
      "source": [
        "# this model is running on the GPU\n",
        "results = detector2(image2)"
      ],
      "metadata": {
        "id": "sIFA8ynCRZBK"
      },
      "execution_count": null,
      "outputs": []
    },
    {
      "cell_type": "code",
      "source": [
        "# convert the resulting dlib rectangle objects to bounding boxes,\n",
        "# then ensure the bounding boxes are all within the bounds of the\n",
        "# input image\n",
        "boxes = [convert_and_trim_bb(image2, r.rect) for r in results]"
      ],
      "metadata": {
        "id": "8CYLCej6TIby"
      },
      "execution_count": null,
      "outputs": []
    },
    {
      "cell_type": "code",
      "source": [
        "# loop over the bounding boxes\n",
        "for (x, y, w, h) in boxes:\n",
        "\t# draw the bounding box on our image\n",
        "\tcv2.rectangle(image2, (x, y), (x + w, y + h), (0, 255, 0), 2)"
      ],
      "metadata": {
        "id": "9K8o31WRT8n5"
      },
      "execution_count": null,
      "outputs": []
    },
    {
      "cell_type": "code",
      "source": [
        "plt.figure(figsize=(10,20))\n",
        "plt.imshow(image2)"
      ],
      "metadata": {
        "id": "j6CLdN4tT-Tg"
      },
      "execution_count": null,
      "outputs": []
    },
    {
      "cell_type": "code",
      "source": [
        "def detect_faces(detector, image_path, is_CNN=False):\n",
        "  \"\"\"\n",
        "  @brief  Takes in a detector and a path to an image, and performs\n",
        "          detects human faces.\n",
        "  \"\"\"\n",
        "  image = cv2.imread(image_path, cv2.IMREAD_COLOR)\n",
        "  image = imutils.resize(image, width=600)\n",
        "  image = cv2.cvtColor(image, cv2.COLOR_BGR2RGB)\n",
        "\n",
        "  rects = detector(image)\n",
        "\n",
        "  if is_CNN:\n",
        "    boxes = [convert_and_trim_bb(image, r) for r in rects]\n",
        "  else:\n",
        "    boxes = [convert_and_trim_bb(image, r.rect) for r in rects]\n",
        "\n",
        "  for (x, y, w, h) in boxes:\n",
        "\t  # draw the bounding box on our image\n",
        "\t  cv2.rectangle(image, (x, y), (x + w, y + h), (0, 255, 0), 2)\n",
        "\n",
        "  plt.figure(figsize=(10,20))\n",
        "  plt.imshow(image)"
      ],
      "metadata": {
        "id": "1NFEccLqUAix"
      },
      "execution_count": null,
      "outputs": []
    },
    {
      "cell_type": "code",
      "source": [
        "detect_faces(detector, \"ST-summer-2024/45183364-young-people-browsing-the-internet.jpg\")"
      ],
      "metadata": {
        "id": "VN43eL1_axsA"
      },
      "execution_count": null,
      "outputs": []
    },
    {
      "cell_type": "code",
      "source": [
        "detect_faces(detector2, \"ST-summer-2024/45183364-young-people-browsing-the-internet.jpg\")"
      ],
      "metadata": {
        "id": "jbdtTFIga5Jk"
      },
      "execution_count": null,
      "outputs": []
    }
  ]
}